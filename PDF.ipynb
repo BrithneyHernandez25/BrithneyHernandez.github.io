{
  "nbformat": 4,
  "nbformat_minor": 0,
  "metadata": {
    "colab": {
      "provenance": [],
      "authorship_tag": "ABX9TyNUQLRoaND8+mNlDydHw5r7",
      "include_colab_link": true
    },
    "kernelspec": {
      "name": "python3",
      "display_name": "Python 3"
    },
    "language_info": {
      "name": "python"
    }
  },
  "cells": [
    {
      "cell_type": "markdown",
      "metadata": {
        "id": "view-in-github",
        "colab_type": "text"
      },
      "source": [
        "<a href=\"https://colab.research.google.com/github/BrithneyHernandez25/BrithneyHernandez.github.io/blob/main/PDF.ipynb\" target=\"_parent\"><img src=\"https://colab.research.google.com/assets/colab-badge.svg\" alt=\"Open In Colab\"/></a>"
      ]
    },
    {
      "cell_type": "code",
      "execution_count": null,
      "metadata": {
        "id": "FAH0tCLsxZBq",
        "colab": {
          "base_uri": "https://localhost:8080/"
        },
        "outputId": "d8614831-6d63-4060-8348-e34e7ca9da62"
      },
      "outputs": [
        {
          "output_type": "stream",
          "name": "stdout",
          "text": [
            "Collecting pdfplumber\n",
            "  Downloading pdfplumber-0.11.0-py3-none-any.whl (56 kB)\n",
            "\u001b[2K     \u001b[90m━━━━━━━━━━━━━━━━━━━━━━━━━━━━━━━━━━━━━━━━\u001b[0m \u001b[32m56.4/56.4 kB\u001b[0m \u001b[31m1.2 MB/s\u001b[0m eta \u001b[36m0:00:00\u001b[0m\n",
            "\u001b[?25hCollecting pdfminer.six==20231228 (from pdfplumber)\n",
            "  Downloading pdfminer.six-20231228-py3-none-any.whl (5.6 MB)\n",
            "\u001b[2K     \u001b[90m━━━━━━━━━━━━━━━━━━━━━━━━━━━━━━━━━━━━━━━━\u001b[0m \u001b[32m5.6/5.6 MB\u001b[0m \u001b[31m36.6 MB/s\u001b[0m eta \u001b[36m0:00:00\u001b[0m\n",
            "\u001b[?25hRequirement already satisfied: Pillow>=9.1 in /usr/local/lib/python3.10/dist-packages (from pdfplumber) (9.4.0)\n",
            "Collecting pypdfium2>=4.18.0 (from pdfplumber)\n",
            "  Downloading pypdfium2-4.30.0-py3-none-manylinux_2_17_x86_64.manylinux2014_x86_64.whl (2.8 MB)\n",
            "\u001b[2K     \u001b[90m━━━━━━━━━━━━━━━━━━━━━━━━━━━━━━━━━━━━━━━━\u001b[0m \u001b[32m2.8/2.8 MB\u001b[0m \u001b[31m20.8 MB/s\u001b[0m eta \u001b[36m0:00:00\u001b[0m\n",
            "\u001b[?25hRequirement already satisfied: charset-normalizer>=2.0.0 in /usr/local/lib/python3.10/dist-packages (from pdfminer.six==20231228->pdfplumber) (3.3.2)\n",
            "Requirement already satisfied: cryptography>=36.0.0 in /usr/local/lib/python3.10/dist-packages (from pdfminer.six==20231228->pdfplumber) (42.0.7)\n",
            "Requirement already satisfied: cffi>=1.12 in /usr/local/lib/python3.10/dist-packages (from cryptography>=36.0.0->pdfminer.six==20231228->pdfplumber) (1.16.0)\n",
            "Requirement already satisfied: pycparser in /usr/local/lib/python3.10/dist-packages (from cffi>=1.12->cryptography>=36.0.0->pdfminer.six==20231228->pdfplumber) (2.22)\n",
            "Installing collected packages: pypdfium2, pdfminer.six, pdfplumber\n",
            "Successfully installed pdfminer.six-20231228 pdfplumber-0.11.0 pypdfium2-4.30.0\n",
            "Mounted at /content/drive\n",
            "El archivo se ha descargado correctamente: /content/drive/My Drive/sample.pdf\n",
            "El archivo se ha descargado correctamente: /content/drive/My Drive/sample.pdf\n",
            "El archivo se ha descargado correctamente: /content/drive/My Drive/sample.pdf\n",
            "El archivo se ha descargado correctamente: /content/drive/My Drive/sample.pdf\n"
          ]
        }
      ],
      "source": [
        "!pip install pdfplumber\n",
        "from pdfplumber import open as open_pdf\n",
        "from google.colab import drive\n",
        "import requests\n",
        "\n",
        "def buscar_palabras_clave_en_pdf(ruta_archivo_pdf, palabras_clave, url_archivo):\n",
        "    # Abrir el archivo PDF\n",
        "    with open_pdf(ruta_archivo_pdf) as pdf:\n",
        "        num_paginas = len(pdf.pages)\n",
        "        for num_pagina in range(num_paginas):\n",
        "            pagina = pdf.pages[num_pagina]\n",
        "            texto_pagina = pagina.extract_text()\n",
        "            for palabra_clave in palabras_clave:\n",
        "                if palabra_clave in texto_pagina:\n",
        "                    print(f'Palabra clave \"{palabra_clave}\" encontrada en la página {num_pagina + 1} del archivo: {url_archivo}')\n",
        "\n",
        "drive.mount('/content/drive')\n",
        "\n",
        "palabras_clave = ['¿Quién lo mató?', \"Paco Stanley\",\"Alfombra ¿Quién lo mató?\",\"Paco Stanley\",\"Amazon Prime Video enfrenta demanda\",\"Amazon es demandado\",\n",
        "                     'Fallout Amazon','Fallout de Amazon',\"La serie de Fallout\",\"serie de Fallout\"\n",
        "                     'Betty, La Fea: La Historia Continúa', 'Betty, La Fea','Betty La Fea','Betty la fea',\"Yo soy Betty, la fea\",\"Betty la fea\",\n",
        "                     \"Mi Lady Jane\", \"My Lady Jane\",\n",
        "                     \"Elle Woods\", \"Legalmente Rubia\",\n",
        "                     \"Rojo, Blanco y Sangre Azul\",\"Red, White & Royal Blue 2\",\n",
        "                     'The Boys',\n",
        "                     \"Road House\",\n",
        "                     \"Culpa Tuya\",\"Culpa tuya\",\n",
        "                     \"I am Celine Dion\",\"I Am: Celine Dion\",\"I am: Celine Dion\",\"I AM: CELINE DION\",\n",
        "                     \"Los Anillos de Poder\",\n",
        "                     \"Prime video\",\n",
        "                     \"The idea of you\",'The Idea of You','The Idea of You','The Idea of You',\n",
        "                     'Sueltos en Los Cabos',\n",
        "                     'Maxton Hall',\n",
        "                     \"Cada Minuto Cuenta\",\"Cada minuto cuenta\",\n",
        "                     \"Tempation\"\n",
        "                     ]\n",
        "\n",
        "urls = [\n",
        "    \"https://drive.google.com/file/d/1Q5Mb8n_8wuIe-W-yIF_Z_GECHsZ3okNx/view?usp=sharing\",\n",
        "    \"https://drive.google.com/file/d/1Ih58Jrt_If-Ct816iH3xLe4Sqo4MF3KY/view?usp=sharing\",\n",
        "    \"https://drive.google.com/file/d/15i15y27V1S7wHHYv2nSX3Hl9t27pcg4C/view?usp=sharing\",\n",
        "    \"https://drive.google.com/file/d/1di8dw0yCxwWCbNcE17_U8fdMMnk6ErDS/view?usp=sharing\"\n",
        "\n",
        "\n",
        "]\n",
        "\n",
        "\n",
        "for url in urls:\n",
        "    id_archivo = url.split(\"/\")[-2]\n",
        "    url_descarga = f\"https://drive.google.com/uc?id={id_archivo}\"\n",
        "    ruta_archivo = \"/content/drive/My Drive/sample.pdf\"\n",
        "    respuesta = requests.get(url_descarga)\n",
        "    with open(ruta_archivo, \"wb\") as archivo_local:\n",
        "        archivo_local.write(respuesta.content)\n",
        "    print(\"El archivo se ha descargado correctamente:\", ruta_archivo)\n",
        "    buscar_palabras_clave_en_pdf(ruta_archivo, palabras_clave, url)"
      ]
    }
  ]
}