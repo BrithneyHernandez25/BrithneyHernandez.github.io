{
  "nbformat": 4,
  "nbformat_minor": 0,
  "metadata": {
    "colab": {
      "provenance": [],
      "authorship_tag": "ABX9TyMALyuKxzujaxbylfeyz6kj",
      "include_colab_link": true
    },
    "kernelspec": {
      "name": "python3",
      "display_name": "Python 3"
    },
    "language_info": {
      "name": "python"
    }
  },
  "cells": [
    {
      "cell_type": "markdown",
      "metadata": {
        "id": "view-in-github",
        "colab_type": "text"
      },
      "source": [
        "<a href=\"https://colab.research.google.com/github/BrithneyHernandez25/BrithneyHernandez.github.io/blob/main/CSV.ipynb\" target=\"_parent\"><img src=\"https://colab.research.google.com/assets/colab-badge.svg\" alt=\"Open In Colab\"/></a>"
      ]
    },
    {
      "cell_type": "code",
      "execution_count": null,
      "metadata": {
        "colab": {
          "base_uri": "https://localhost:8080/"
        },
        "id": "Ws_A6QZaCXIS",
        "outputId": "5f379944-dfd8-452d-b52e-f6801613292a"
      },
      "outputs": [
        {
          "output_type": "stream",
          "name": "stdout",
          "text": [
            "Documento ID: 1h3GllUGEGkTLaFI1WdtmDLktXDKUysiMsdrQqmsQMW4\n",
            "Hoja de cálculo: Coverage Tracker\n"
          ]
        },
        {
          "output_type": "stream",
          "name": "stderr",
          "text": [
            "<ipython-input-48-24bd2f3c1534>:41: UserWarning: Could not infer format, so each element will be parsed individually, falling back to `dateutil`. To ensure parsing is consistent and as-expected, please specify a format.\n",
            "  df['Date'] = pd.to_datetime(df['Date'], errors='coerce', dayfirst=True) # Ordenar el DataFrame por la columna 'Date' de manera descendente\n"
          ]
        },
        {
          "output_type": "stream",
          "name": "stdout",
          "text": [
            "Documento ID: 18r0uN5n2zducqllNN3Kl66PUPF_oLKFXLVtNYKwPlPw\n",
            "Hoja de cálculo: Coverage Tracker\n",
            "Documento ID: 17jRq7Nq-X03mzRkIsLdKzW24FwYbyS-jyBVTrMifnf0\n",
            "Hoja de cálculo: Coverage Tracker\n"
          ]
        }
      ],
      "source": [
        "from google.colab import auth\n",
        "auth.authenticate_user()\n",
        "import gspread\n",
        "import pandas as pd\n",
        "from google.auth import default\n",
        "from datetime import datetime\n",
        "creds, _ = default()\n",
        "gc = gspread.authorize(creds)\n",
        "\n",
        "# Define las URL de los archivos\n",
        "urls = [\n",
        "    \"https://docs.google.com/spreadsheets/d/1h3GllUGEGkTLaFI1WdtmDLktXDKUysiMsdrQqmsQMW4/edit#gid=1207244430\", # 2024\n",
        "    \"https://docs.google.com/spreadsheets/d/18r0uN5n2zducqllNN3Kl66PUPF_oLKFXLVtNYKwPlPw/edit#gid=214795300\",# 2023\n",
        "    \"https://docs.google.com/spreadsheets/d/17jRq7Nq-X03mzRkIsLdKzW24FwYbyS-jyBVTrMifnf0/edit#gid=2003061115\",#2022\n",
        "    \"https://docs.google.com/spreadsheets/d/1QS_4jeK0HuX67YYD3aVcYpgxttSQVWjJh5uYT1g6JuM/edit#gid=638747404\" #2024 nuestro\n",
        "    ]\n",
        "# Lista para almacenar los DataFrames de cada hoja de cálculo\n",
        "dfs = []\n",
        "\n",
        "for url in urls:\n",
        "    doc_id = url.split(\"/\")[5]\n",
        "    print(\"Documento ID:\", doc_id)\n",
        "    doc = gc.open_by_key(doc_id)\n",
        "    ws = doc.worksheet(\"Coverage Tracker\")\n",
        "    print(\"Hoja de cálculo:\", ws.title)  # Agregado para imprimir el título de la hoja\n",
        "    # Obtener todos los valores de la hoja de cálculo\n",
        "    values = ws.get_all_values()\n",
        "    df = pd.DataFrame(values[2:], columns=values[1])  # Tomamos la segunda fila como encabezados\n",
        "    # Eliminar filas vacías del DataFrame\n",
        "    df.dropna(inplace=True)\n",
        "\n",
        "    # Verificar si las columnas que queremos seleccionar existen en el DataFrame\n",
        "    required_columns = [ 'URL / print', 'Outlet','Headline','Sentiment',  'Online / Print / TV / Radio', 'Primary Title','Tier', 'Date']\n",
        "    for col in required_columns:\n",
        "        if col not in df.columns:\n",
        "            df[col] = ''  # Si la columna no existe, añadimos una columna vacía\n",
        "\n",
        "    # Seleccionar las columnas necesarias y reordenar si es necesario\n",
        "    df = df[required_columns]\n",
        "\n",
        "    df['Date'] = pd.to_datetime(df['Date'], errors='coerce', dayfirst=True) # Ordenar el DataFrame por la columna 'Date' de manera descendente\n",
        "    df.sort_values(by='Date', ascending=False, inplace=True)\n",
        "\n",
        "    # Agregar un espacio vacío si 'Outlet' o 'Headline' no están presentes en una fila determinada\n",
        "    df['Outlet'].fillna('', inplace=True)\n",
        "    df['Headline'].fillna('', inplace=True)\n",
        "    df['Online / Print / TV / Radio'].fillna('', inplace=True)\n",
        "    df['URL / print'].fillna('', inplace=True)\n",
        "    df['Sentiment'].fillna('', inplace=True)\n",
        "    df['Tier'].fillna('', inplace=True)\n",
        "    df['Date'].fillna('', inplace=True)\n",
        "\n",
        "    df = df[df['URL / print'] != '']  # Filtrar filas con URL / print vacías\n",
        "     # Reemplazar \"Paco Stanley\" por \"¿Quién lo mató?\" en la columna 'Primary Title'\n",
        "    df['Primary Title'] = df['Primary Title'].replace('Paco Stanley', '¿Quién lo mató?')\n",
        "    df['Primary Title'] = df['Primary Title'].replace('Betty, la fea', 'Betty, la fea')\n",
        "    df['Primary Title'] = df['Primary Title'].replace('Fallout', 'Fallout  S1')\n",
        "    # df['Primary Title'] = df['Primary Title'].replace('Road House', 'Fallout  S1')\n",
        "\n",
        "    dfs.append(df)\n",
        "\n",
        "merged_df = pd.concat(dfs, ignore_index=True)\n",
        "spreadsheet = gc.create('merged_data')# Crear una hoja de cálculo de Google\n",
        "worksheet = spreadsheet.get_worksheet(0)  # Selecciona la primera hoja\n",
        "merged_df['Date'] = merged_df['Date'].astype(str)# Convertir las columnas de fecha a cadenas de texto\n",
        "\n",
        "# Actualizar la hoja de cálculo\n",
        "worksheet.update([merged_df.columns.values.tolist()] + merged_df.values.tolist())\n",
        "print(\"El DataFrame se ha guardado como una hoja de cálculo de Google.\")"
      ]
    }
  ]
}